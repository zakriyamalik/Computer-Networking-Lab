{
  "nbformat": 4,
  "nbformat_minor": 0,
  "metadata": {
    "colab": {
      "provenance": []
    },
    "kernelspec": {
      "name": "python3",
      "display_name": "Python 3"
    },
    "language_info": {
      "name": "python"
    }
  },
  "cells": [
    {
      "cell_type": "code",
      "execution_count": 29,
      "metadata": {
        "colab": {
          "base_uri": "https://localhost:8080/"
        },
        "id": "LhMLnjA5Szkp",
        "outputId": "dfe5562b-c1a7-4f04-eb57-575481cacd2c"
      },
      "outputs": [
        {
          "output_type": "stream",
          "name": "stdout",
          "text": [
            "['a', 's', 'd', 'a', 's', 's', 'd']\n"
          ]
        }
      ],
      "source": [
        "f = open(\"lab3input.txt\",'r')\n",
        "content=f.read()\n",
        "res=[]\n",
        "#print(content)\n",
        "for i in range(len(content)):\n",
        " #print(content[i])\n",
        " if(content[i].isalpha()):\n",
        "  res.append(content[i])\n",
        "\n",
        "print(res)\n",
        "f.close()\n",
        "f = open(\"lab3output.txt\",'w')\n",
        "for i in res:\n",
        " f.write(i)\n",
        "f.close()\n",
        "\n",
        "\n"
      ]
    }
  ]
}