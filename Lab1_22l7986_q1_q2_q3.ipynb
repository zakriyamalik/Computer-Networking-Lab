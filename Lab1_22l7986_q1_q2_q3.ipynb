{
  "cells": [
    {
      "cell_type": "code",
      "execution_count": 18,
      "metadata": {
        "colab": {
          "base_uri": "https://localhost:8080/"
        },
        "id": "XNpLLFoRxcex",
        "outputId": "f8a0eea1-91d1-4361-b004-a1d51e1501fb"
      },
      "outputs": [
        {
          "name": "stdout",
          "output_type": "stream",
          "text": [
            "Hello World\n"
          ]
        }
      ],
      "source": [
        "import math\n",
        "import re\n",
        "print('Hello World')"
      ]
    },
    {
      "cell_type": "code",
      "execution_count": 4,
      "metadata": {
        "colab": {
          "base_uri": "https://localhost:8080/"
        },
        "id": "BFUZ4xVi1We1",
        "outputId": "37b46b87-3726-432a-a8c1-02d246b20f28"
      },
      "outputs": [
        {
          "name": "stdout",
          "output_type": "stream",
          "text": [
            "['o', 'l', 'l', 'e', 'h']\n"
          ]
        }
      ],
      "source": [
        "#Code 1\n",
        "name=[\"h\",\"e\",\"l\",\"l\",\"o\"]\n",
        "name=name[::-1]\n",
        "print(name)"
      ]
    },
    {
      "cell_type": "code",
      "execution_count": 5,
      "metadata": {
        "colab": {
          "base_uri": "https://localhost:8080/"
        },
        "id": "7ofyi9AJ10fZ",
        "outputId": "84f0deb7-e7c6-45a5-fc90-425d8c057ca2"
      },
      "outputs": [
        {
          "name": "stdout",
          "output_type": "stream",
          "text": [
            "8\n"
          ]
        }
      ],
      "source": [
        "#Code 3\n",
        "import math\n",
        "x=8\n",
        "\n",
        "math.sqrt(x)\n",
        "x=int(x)\n",
        "print(x)"
      ]
    },
    {
      "cell_type": "code",
      "execution_count": 2,
      "metadata": {
        "colab": {
          "base_uri": "https://localhost:8080/"
        },
        "id": "-CmZvZaR3WDC",
        "outputId": "caff2ef5-c0a7-4f00-d9f4-e4b2f8a7546a"
      },
      "outputs": [
        {
          "name": "stdout",
          "output_type": "stream",
          "text": [
            "Not Palindrome\n"
          ]
        }
      ],
      "source": [
        "#Code 2\n",
        "import re\n",
        "#s = \"A man, a plan, a canal: Panama\"\n",
        "s = \"race a car\"\n",
        "s=s.lower()\n",
        "s = re.sub(r'[^a-zA-Z0-9]', '', s)\n",
        "newString=s;\n",
        "s=s[::-1]\n",
        "if (s==newString):\n",
        "\n",
        "    print(\"Is Palindrome\")\n",
        "\n",
        "if(s!=newString):\n",
        "\n",
        "      print(\"Not Palindrome\")\n",
        "\n"
      ]
    },
    {
      "cell_type": "code",
      "execution_count": null,
      "metadata": {
        "id": "5LT10s5D-q5Q"
      },
      "outputs": [],
      "source": []
    }
  ],
  "metadata": {
    "colab": {
      "provenance": []
    },
    "kernelspec": {
      "display_name": "base",
      "language": "python",
      "name": "python3"
    },
    "language_info": {
      "codemirror_mode": {
        "name": "ipython",
        "version": 3
      },
      "file_extension": ".py",
      "mimetype": "text/x-python",
      "name": "python",
      "nbconvert_exporter": "python",
      "pygments_lexer": "ipython3",
      "version": "3.12.7"
    }
  },
  "nbformat": 4,
  "nbformat_minor": 0
}
