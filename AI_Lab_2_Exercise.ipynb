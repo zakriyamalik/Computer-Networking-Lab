{
  "nbformat": 4,
  "nbformat_minor": 0,
  "metadata": {
    "colab": {
      "provenance": []
    },
    "kernelspec": {
      "name": "python3",
      "display_name": "Python 3"
    },
    "language_info": {
      "name": "python"
    }
  },
  "cells": [
    {
      "cell_type": "code",
      "execution_count": null,
      "metadata": {
        "colab": {
          "base_uri": "https://localhost:8080/"
        },
        "id": "WR1X-Iliqmkt",
        "outputId": "4570170f-c104-45fa-e023-b9f53e1009b6"
      },
      "outputs": [
        {
          "output_type": "stream",
          "name": "stdout",
          "text": [
            "Enter your number10\n",
            "Chickens are many\n"
          ]
        }
      ],
      "source": [
        "# Chicken number\n",
        "def chickenNumber():\n",
        "  number=int(input(\"Enter your number\"))\n",
        "\n",
        "  if(number>=10):\n",
        "    print(\"Chickens are many\")\n",
        "\n",
        "  else:\n",
        "    print(\"Chickens are \", number)\n",
        "\n",
        "\n",
        "\n",
        "chickenNumber()"
      ]
    },
    {
      "cell_type": "code",
      "source": [
        "# String Check\n",
        "def stringBuilder():\n",
        "  str=input(\"Enter the string\")\n",
        "  length=len(str)\n",
        "  res=\"\"\n",
        "  if(length<3):\n",
        "   return res\n",
        "  else:\n",
        "    first=str[0:3]\n",
        "    end=str[length-3:length]\n",
        "    res=first+end\n",
        "    return res\n",
        "\n",
        "\n",
        "\n",
        "stringBuilder()\n"
      ],
      "metadata": {
        "colab": {
          "base_uri": "https://localhost:8080/",
          "height": 70
        },
        "id": "BMitDIjUwFg8",
        "outputId": "ef651af3-de68-45a1-ad55-63413b4a58f9"
      },
      "execution_count": null,
      "outputs": [
        {
          "output_type": "stream",
          "name": "stdout",
          "text": [
            "Enter the stringinformation\n",
            "infion\n"
          ]
        },
        {
          "output_type": "execute_result",
          "data": {
            "text/plain": [
              "'infion'"
            ],
            "application/vnd.google.colaboratory.intrinsic+json": {
              "type": "string"
            }
          },
          "metadata": {},
          "execution_count": 32
        }
      ]
    },
    {
      "cell_type": "code",
      "source": [
        "def replaceOccurances():\n",
        "  input_str=input(\"Enter the string\")\n",
        "  first_char = input_str[0]\n",
        "  print(first_char)\n",
        "  print(input_str)\n",
        "  lower_char = first_char.lower()\n",
        "  upper_char = first_char.upper()\n",
        "  str1= input_str.replace(lower_char, \"@\").replace(upper_char, \"@\")\n",
        "  length=len(str1)\n",
        "  second=str1[1:length]\n",
        "  third=first_char+second\n",
        "  print(third)\n",
        "replaceOccurances()"
      ],
      "metadata": {
        "colab": {
          "base_uri": "https://localhost:8080/"
        },
        "id": "d7C7RO8bxuNB",
        "outputId": "306d293e-0427-40da-9be6-c014cd968adb"
      },
      "execution_count": null,
      "outputs": [
        {
          "output_type": "stream",
          "name": "stdout",
          "text": [
            "Enter the stringHhhhHhsd\n",
            "H\n",
            "HhhhHhsd\n",
            "H@@@@@sd\n"
          ]
        }
      ]
    },
    {
      "cell_type": "code",
      "source": [
        "#String jumble\n",
        "def swapOccurances():\n",
        "  input_str1=input(\"Enter the string 1\")\n",
        "  input_str2=input(\"Enter the string 2\")\n",
        "  char_list1=list(input_str1)\n",
        "  char_list2=list(input_str2)\n",
        "  char_list3=list(input_str1)\n",
        "  #Used char_List3 for the purpose of replacing the actually characters of input_str1\n",
        "  char_list1[0],char_list1[1]=char_list2[0],char_list2[1]\n",
        "\n",
        "  first=\"\".join(char_list1)\n",
        "  char_list2[0],char_list2[1]=char_list3[0],char_list3[1]\n",
        "  second=\"\".join(char_list2)\n",
        "  print(first,second)\n",
        "swapOccurances()\n"
      ],
      "metadata": {
        "colab": {
          "base_uri": "https://localhost:8080/"
        },
        "id": "NNxW6odu-rLC",
        "outputId": "a21b65b0-3cb9-4aec-d69d-c1d3e6b492ff"
      },
      "execution_count": null,
      "outputs": [
        {
          "output_type": "stream",
          "name": "stdout",
          "text": [
            "Enter the string 1dog\n",
            "Enter the string 2dinner\n",
            "dig donner\n"
          ]
        }
      ]
    },
    {
      "cell_type": "code",
      "source": [
        "#Matching first and last characters\n",
        "def matchingFirstandLast(a):\n",
        "  counter=0\n",
        "  for i in a:\n",
        "   if(i[0]==i[-1]):\n",
        "     counter+=1\n",
        "  return counter\n",
        "  print(a)\n",
        "\n",
        "matchingFirstandLast([\"oello\",\"World\",\"Best\"])"
      ],
      "metadata": {
        "colab": {
          "base_uri": "https://localhost:8080/"
        },
        "id": "bcjQMGo0I97L",
        "outputId": "c13c62fa-f047-474c-cb6f-279694409510"
      },
      "execution_count": 11,
      "outputs": [
        {
          "output_type": "execute_result",
          "data": {
            "text/plain": [
              "1"
            ]
          },
          "metadata": {},
          "execution_count": 11
        }
      ]
    },
    {
      "cell_type": "code",
      "source": [
        "#Sort list with groupt 'a'\n",
        "#Matching first and last characters\n",
        "def matchingFirstandLast(a):\n",
        "  a.sort(key=None, reverse=False)\n",
        "  return a\n",
        "  print(a)\n",
        "\n",
        "matchingFirstandLast([\"oello\",\"World\",\"Best\"])"
      ],
      "metadata": {
        "colab": {
          "base_uri": "https://localhost:8080/"
        },
        "id": "oLW4eH2yNbKv",
        "outputId": "3476eac9-d6c1-4673-fe09-adf1d78346e1"
      },
      "execution_count": 13,
      "outputs": [
        {
          "output_type": "execute_result",
          "data": {
            "text/plain": [
              "[(1, 3), (1, 7), (2, 2), (3, 4, 5)]"
            ]
          },
          "metadata": {},
          "execution_count": 13
        }
      ]
    },
    {
      "cell_type": "code",
      "source": [
        "#Sort tuple by last element\n",
        "\n",
        "def sortByLast(a):\n",
        "  a.sort(key=lambda x:x[-1], reverse=False)\n",
        "  return a\n",
        "  print(a)\n",
        "\n",
        "sortByLast([(1, 7), (1, 4), (1, 2), (3, 4, 5)])\n"
      ],
      "metadata": {
        "colab": {
          "base_uri": "https://localhost:8080/"
        },
        "id": "-kS7nX1GKFwh",
        "outputId": "57205b35-fae3-421b-de1c-edd4ae148624"
      },
      "execution_count": 18,
      "outputs": [
        {
          "output_type": "execute_result",
          "data": {
            "text/plain": [
              "[(1, 2), (1, 4), (3, 4, 5), (1, 7)]"
            ]
          },
          "metadata": {},
          "execution_count": 18
        }
      ]
    },
    {
      "cell_type": "code",
      "source": [
        "#Palindrome Detection\n",
        "def palindromeDetection(a):\n",
        "  reverse=a[::-1]\n",
        "  if(a==reverse):\n",
        "    return True\n",
        "  else:\n",
        "    return False\n",
        "\n",
        "palindromeDetection(\"madam\")\n",
        ""
      ],
      "metadata": {
        "colab": {
          "base_uri": "https://localhost:8080/"
        },
        "id": "3j9E7HavVRyU",
        "outputId": "62e1a0ff-d528-4c5b-ba6a-98bedfec2afd"
      },
      "execution_count": 19,
      "outputs": [
        {
          "output_type": "execute_result",
          "data": {
            "text/plain": [
              "True"
            ]
          },
          "metadata": {},
          "execution_count": 19
        }
      ]
    },
    {
      "cell_type": "code",
      "source": [
        "#List Flattening\n",
        "def flatening(a):\n",
        "  res=[]\n",
        "  for s in a:\n",
        "    for i in s:\n",
        "      res.append(i)\n",
        "\n",
        "  return res\n",
        "\n",
        "flatening([[1, 2, 3], [4, 5]])"
      ],
      "metadata": {
        "colab": {
          "base_uri": "https://localhost:8080/"
        },
        "id": "66Gm-gkTV7_Z",
        "outputId": "ab9bb4ab-cc05-4b24-f261-2128081c94fb"
      },
      "execution_count": 21,
      "outputs": [
        {
          "output_type": "execute_result",
          "data": {
            "text/plain": [
              "[1, 2, 3, 4, 5]"
            ]
          },
          "metadata": {},
          "execution_count": 21
        }
      ]
    },
    {
      "cell_type": "code",
      "source": [
        "#List Intersection\n",
        "def intersection(a):\n",
        "  first=a[0]\n",
        "  second=a[1]\n",
        "  print(first,second)\n",
        "  res=[]\n",
        "  for i in first:\n",
        "    if i in second:\n",
        "      res.append(i)\n",
        "  return res\n",
        "\n",
        "\n",
        "intersection([[1, 2, 3], [2, 3]])"
      ],
      "metadata": {
        "colab": {
          "base_uri": "https://localhost:8080/"
        },
        "id": "cMHRFHCZW0w9",
        "outputId": "290fa240-22c0-40f3-dffe-53c294f9c9cc"
      },
      "execution_count": 26,
      "outputs": [
        {
          "output_type": "stream",
          "name": "stdout",
          "text": [
            "[1, 2, 3] [2, 3]\n"
          ]
        },
        {
          "output_type": "execute_result",
          "data": {
            "text/plain": [
              "[2, 3]"
            ]
          },
          "metadata": {},
          "execution_count": 26
        }
      ]
    },
    {
      "cell_type": "code",
      "source": [
        "#Anamgram code\n",
        "\n",
        "def anagram(a,b):\n",
        " a=a.replace(\" \",\"\").lower()\n",
        " b=b.replace(\" \",\"\").lower()\n",
        " if(len(a)==len(b)):\n",
        "  if(sorted(a)==sorted(b)):\n",
        "    return True\n",
        "  else:\n",
        "    print(a)\n",
        "    return False\n",
        " else:\n",
        "    return False\n",
        "\n",
        "anagram(\"ehels\",\"heels\")\n",
        ""
      ],
      "metadata": {
        "colab": {
          "base_uri": "https://localhost:8080/"
        },
        "id": "xy7TXVcrX17B",
        "outputId": "18f5bdf7-46b3-41a8-914f-5fd325cd34b1"
      },
      "execution_count": 42,
      "outputs": [
        {
          "output_type": "execute_result",
          "data": {
            "text/plain": [
              "True"
            ]
          },
          "metadata": {},
          "execution_count": 42
        }
      ]
    },
    {
      "cell_type": "code",
      "source": [
        "#Binary Search\n",
        "def binarySearch(a,key):\n",
        " st=0\n",
        " end=len(a)-1\n",
        " while(st<end):\n",
        "  mid=(st+end)//2\n",
        "  if(a[mid]==key):\n",
        "   return True\n",
        "  elif(a[mid]<key):\n",
        "   st=mid+1\n",
        "  else:\n",
        "   end=mid-1\n",
        "  return False\n",
        "\n",
        "\n",
        "\n",
        "binarySearch([1, 2, 3, 4, 5, 6],3)"
      ],
      "metadata": {
        "colab": {
          "base_uri": "https://localhost:8080/"
        },
        "id": "WkJmpIvnbgJ2",
        "outputId": "9c31d360-d56b-4422-b67d-b7ab1db0a374"
      },
      "execution_count": 47,
      "outputs": [
        {
          "output_type": "execute_result",
          "data": {
            "text/plain": [
              "True"
            ]
          },
          "metadata": {},
          "execution_count": 47
        }
      ]
    },
    {
      "cell_type": "code",
      "source": [
        "#Merge sort\n",
        "def merge_sort(arr):\n",
        "    if len(arr) <= 1:\n",
        "        return arr\n",
        "\n",
        "    mid = len(arr) // 2\n",
        "    left_half = arr[:mid]\n",
        "    right_half = arr[mid:]\n",
        "\n",
        "    left_sorted = merge_sort(left_half)\n",
        "    right_sorted = merge_sort(right_half)\n",
        "\n",
        "    return merge(left_sorted, right_sorted)\n",
        "\n",
        "def merge(left, right):\n",
        "    sorted_list = []\n",
        "    left_index = right_index = 0\n",
        "\n",
        "    while left_index < len(left) and right_index < len(right):\n",
        "        if left[left_index] < right[right_index]:\n",
        "            sorted_list.append(left[left_index])\n",
        "            left_index += 1\n",
        "        else:\n",
        "            sorted_list.append(right[right_index])\n",
        "            right_index += 1\n",
        "\n",
        "    sorted_list.extend(left[left_index:])\n",
        "    sorted_list.extend(right[right_index:])\n",
        "\n",
        "    return sorted_list\n",
        "\n",
        "\n",
        "sorted_list = merge_sort([38, 27, 43, 3, 9, 82, 10])\n",
        "print(sorted_list)\n"
      ],
      "metadata": {
        "colab": {
          "base_uri": "https://localhost:8080/"
        },
        "id": "r5VKC74xiQ7j",
        "outputId": "3d8bebab-9f92-408e-9a18-1abc1e519883"
      },
      "execution_count": 54,
      "outputs": [
        {
          "output_type": "stream",
          "name": "stdout",
          "text": [
            "[3, 9, 10, 27, 38, 43, 82]\n"
          ]
        }
      ]
    },
    {
      "cell_type": "code",
      "source": [
        "#Quick Sort\n",
        "def quick_sort(arr):\n",
        "    if len(arr) <= 1:\n",
        "        return arr\n",
        "\n",
        "    pivot = arr[len(arr) // 2]\n",
        "    left = [x for x in arr if x < pivot]\n",
        "    middle = [x for x in arr if x == pivot]\n",
        "    right = [x for x in arr if x > pivot]\n",
        "\n",
        "    return quick_sort(left) + middle + quick_sort(right)\n"
      ],
      "metadata": {
        "id": "aXtj7oDWitj4"
      },
      "execution_count": null,
      "outputs": []
    },
    {
      "cell_type": "code",
      "source": [
        "#Frequency Counter\n",
        "\n",
        "def count_frequencies(lst):\n",
        "    frequency_dict = {}\n",
        "    for item in lst:\n",
        "        if item in frequency_dict:\n",
        "            frequency_dict[item] += 1\n",
        "        else:\n",
        "            frequency_dict[item] = 1\n",
        "    return frequency_dict\n",
        "\n",
        "result = count_frequencies([1, 2, 2, 3, 4, 2])\n",
        "print(result)"
      ],
      "metadata": {
        "colab": {
          "base_uri": "https://localhost:8080/"
        },
        "id": "VhvYev9RlUHB",
        "outputId": "4fb1ad3e-fd54-4a79-d1c8-062d43400cfd"
      },
      "execution_count": 56,
      "outputs": [
        {
          "output_type": "stream",
          "name": "stdout",
          "text": [
            "{1: 1, 2: 3, 3: 1, 4: 1}\n"
          ]
        }
      ]
    },
    {
      "cell_type": "code",
      "source": [
        "#uniquee\n",
        "def count_distinct_elements(lst):\n",
        "    return len(set(lst))\n"
      ],
      "metadata": {
        "id": "M5ABcHocqPh2"
      },
      "execution_count": null,
      "outputs": []
    },
    {
      "cell_type": "code",
      "source": [
        "#union and intersevtion\n",
        "def union_and_intersection(set1, set2):\n",
        "    union_set = set1 | set2\n",
        "    intersection_set = set1 & set2\n",
        "    return union_set, intersection_set"
      ],
      "metadata": {
        "id": "Dz8uXcMwqUBK"
      },
      "execution_count": null,
      "outputs": []
    },
    {
      "cell_type": "code",
      "source": [
        "#unique value\n",
        "def unique_values(input_dict):\n",
        "    return list(set(input_dict.values()))\n"
      ],
      "metadata": {
        "id": "NDbBb2Bwsvzs"
      },
      "execution_count": null,
      "outputs": []
    },
    {
      "cell_type": "code",
      "source": [
        "sdsds"
      ],
      "metadata": {
        "id": "jtfLc5Kjt-wk"
      },
      "execution_count": null,
      "outputs": []
    },
    {
      "cell_type": "code",
      "source": [
        "#merge dictionary\n",
        "def merge_dictionaries(d1, d2):\n",
        "    merged_dict = d2.copy()\n",
        "    merged_dict.update(d1)\n",
        "    return merged_dict"
      ],
      "metadata": {
        "id": "AJrqDK2pt_j9"
      },
      "execution_count": null,
      "outputs": []
    },
    {
      "cell_type": "code",
      "source": [
        "#filter dictionary\n",
        "def filter_dicts_by_key(dict_list, key):\n",
        "    filtered_list = []\n",
        "    for dictionary in dict_list:\n",
        "        if key in dictionary:\n",
        "            filtered_list.append(dictionary)\n",
        "    return filtered_list\n"
      ],
      "metadata": {
        "id": "6XZWlJE_vh5M"
      },
      "execution_count": null,
      "outputs": []
    }
  ]
}