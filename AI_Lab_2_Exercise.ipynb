{
  "nbformat": 4,
  "nbformat_minor": 0,
  "metadata": {
    "colab": {
      "provenance": []
    },
    "kernelspec": {
      "name": "python3",
      "display_name": "Python 3"
    },
    "language_info": {
      "name": "python"
    }
  },
  "cells": [
    {
      "cell_type": "code",
      "execution_count": 27,
      "metadata": {
        "colab": {
          "base_uri": "https://localhost:8080/"
        },
        "id": "WR1X-Iliqmkt",
        "outputId": "4570170f-c104-45fa-e023-b9f53e1009b6"
      },
      "outputs": [
        {
          "output_type": "stream",
          "name": "stdout",
          "text": [
            "Enter your number10\n",
            "Chickens are many\n"
          ]
        }
      ],
      "source": [
        "# Chicken number\n",
        "def chickenNumber():\n",
        "  number=int(input(\"Enter your number\"))\n",
        "\n",
        "  if(number>=10):\n",
        "    print(\"Chickens are many\")\n",
        "\n",
        "  else:\n",
        "    print(\"Chickens are \", number)\n",
        "\n",
        "\n",
        "\n",
        "chickenNumber()"
      ]
    },
    {
      "cell_type": "code",
      "source": [
        "# String Check\n",
        "def stringBuilder():\n",
        "  str=input(\"Enter the string\")\n",
        "  length=len(str)\n",
        "  res=\"\"\n",
        "  if(length<3):\n",
        "   return res\n",
        "  else:\n",
        "    first=str[0:3]\n",
        "    end=str[length-3:length]\n",
        "    res=first+end\n",
        "    return res\n",
        "\n",
        "\n",
        "\n",
        "stringBuilder()\n"
      ],
      "metadata": {
        "colab": {
          "base_uri": "https://localhost:8080/",
          "height": 70
        },
        "id": "BMitDIjUwFg8",
        "outputId": "ef651af3-de68-45a1-ad55-63413b4a58f9"
      },
      "execution_count": 32,
      "outputs": [
        {
          "output_type": "stream",
          "name": "stdout",
          "text": [
            "Enter the stringinformation\n",
            "infion\n"
          ]
        },
        {
          "output_type": "execute_result",
          "data": {
            "text/plain": [
              "'infion'"
            ],
            "application/vnd.google.colaboratory.intrinsic+json": {
              "type": "string"
            }
          },
          "metadata": {},
          "execution_count": 32
        }
      ]
    },
    {
      "cell_type": "code",
      "source": [
        "def replaceOccurances():\n",
        "  input_str=input(\"Enter the string\")\n",
        "  first_char = input_str[0]\n",
        "  print(first_char)\n",
        "  print(input_str)\n",
        "  lower_char = first_char.lower()\n",
        "  upper_char = first_char.upper()\n",
        "  str1= input_str.replace(lower_char, \"@\").replace(upper_char, \"@\")\n",
        "  length=len(str1)\n",
        "  second=str1[1:length]\n",
        "  third=first_char+second\n",
        "  print(third)\n",
        "replaceOccurances()"
      ],
      "metadata": {
        "colab": {
          "base_uri": "https://localhost:8080/"
        },
        "id": "d7C7RO8bxuNB",
        "outputId": "306d293e-0427-40da-9be6-c014cd968adb"
      },
      "execution_count": 62,
      "outputs": [
        {
          "output_type": "stream",
          "name": "stdout",
          "text": [
            "Enter the stringHhhhHhsd\n",
            "H\n",
            "HhhhHhsd\n",
            "H@@@@@sd\n"
          ]
        }
      ]
    },
    {
      "cell_type": "code",
      "source": [
        "#String jumble\n",
        "def swapOccurances():\n",
        "  input_str1=input(\"Enter the string 1\")\n",
        "  input_str2=input(\"Enter the string 2\")\n",
        "  char_list1=list(input_str1)\n",
        "  char_list2=list(input_str2)\n",
        "  char_list3=list(input_str1)\n",
        "  #Used char_List3 for the purpose of replacing the actually characters of input_str1\n",
        "  char_list1[0],char_list1[1]=char_list2[0],char_list2[1]\n",
        "\n",
        "  first=\"\".join(char_list1)\n",
        "  char_list2[0],char_list2[1]=char_list3[0],char_list3[1]\n",
        "  second=\"\".join(char_list2)\n",
        "  print(first,second)\n",
        "swapOccurances()\n"
      ],
      "metadata": {
        "colab": {
          "base_uri": "https://localhost:8080/"
        },
        "id": "NNxW6odu-rLC",
        "outputId": "a21b65b0-3cb9-4aec-d69d-c1d3e6b492ff"
      },
      "execution_count": 65,
      "outputs": [
        {
          "output_type": "stream",
          "name": "stdout",
          "text": [
            "Enter the string 1dog\n",
            "Enter the string 2dinner\n",
            "dig donner\n"
          ]
        }
      ]
    },
    {
      "cell_type": "code",
      "source": [
        "# 5. Matching first and last characters\n",
        "def match_first_last(words):\n",
        "    count = 0\n",
        "    for word in words:\n",
        "        if len(word) >= 2 and word[0] == word[-1]:\n",
        "            count += 1\n",
        "    return count\n",
        "match_first_last(['abc', 'xyz', 'aba', '1221'])"
      ],
      "metadata": {
        "colab": {
          "base_uri": "https://localhost:8080/"
        },
        "id": "JGsXzFcmA4mC",
        "outputId": "6c5d2466-50ff-4863-b6f5-075b4c3fb999"
      },
      "execution_count": 1,
      "outputs": [
        {
          "output_type": "execute_result",
          "data": {
            "text/plain": [
              "2"
            ]
          },
          "metadata": {},
          "execution_count": 1
        }
      ]
    },
    {
      "cell_type": "code",
      "source": [
        "# 6. Group strings in a list\n",
        "def group_strings(words):\n",
        "    a_words = [word for word in words if word.startswith('a')]\n",
        "    other_words = [word for word in words if not word.startswith('a')]\n",
        "    return sorted(a_words) + sorted(other_words)\n",
        "group_strings(['apple', 'banana', 'cherry', 'avocado', 'date'])"
      ],
      "metadata": {
        "id": "oyzpeSsBAZFH"
      },
      "execution_count": null,
      "outputs": []
    },
    {
      "cell_type": "code",
      "source": [
        "# 7. Sort tuple by last element\n",
        "def sort_by_last_element(tuples):\n",
        "    return sorted(tuples, key=lambda x: x[-1])\n",
        "sort_by_last_element([(1, 3), (3, 2), (2, 1)])"
      ],
      "metadata": {
        "id": "5CHDOBQrA3gR"
      },
      "execution_count": null,
      "outputs": []
    },
    {
      "cell_type": "code",
      "source": [
        "\n",
        "# 8. Palindrome Detection\n",
        "def is_palindrome(s):\n",
        "    return s == s[::-1]\n",
        "is_palindrome('madam')"
      ],
      "metadata": {
        "id": "MQSSIYcqBEBi"
      },
      "execution_count": null,
      "outputs": []
    },
    {
      "cell_type": "code",
      "source": [
        "\n",
        "# 10. List Intersection\n",
        "def list_intersection(list1, list2):\n",
        "    return list(set(list1) & set(list2))\n",
        "\n",
        "list_intersection([1, 2, 3, 4], [3, 4, 5, 6])"
      ],
      "metadata": {
        "id": "0oSIyWcPBCD4"
      },
      "execution_count": null,
      "outputs": []
    },
    {
      "cell_type": "code",
      "source": [
        "\n",
        "# 11. String Anagrams\n",
        "def is_anagram(str1, str2):\n",
        "    return sorted(str1) == sorted(str2)\n",
        "is_anagram('listen', 'silent')"
      ],
      "metadata": {
        "id": "_edDNi31BCbC"
      },
      "execution_count": null,
      "outputs": []
    },
    {
      "cell_type": "code",
      "source": [
        "# 12. Binary Search\n",
        "def binary_search(arr, target):\n",
        "    left, right = 0, len(arr) - 1\n",
        "    while left <= right:\n",
        "        mid = (left + right) // 2\n",
        "        if arr[mid] == target:\n",
        "            return mid\n",
        "        elif arr[mid] < target:\n",
        "            left = mid + 1\n",
        "        else:\n",
        "            right = mid - 1\n",
        "    return -1\n",
        "\n",
        "binary_search([1, 2, 3, 4, 5], 3)"
      ],
      "metadata": {
        "id": "_SM-n-fBBC5Q"
      },
      "execution_count": null,
      "outputs": []
    },
    {
      "cell_type": "code",
      "source": [
        "\n",
        "# 13. Merge Sort\n",
        "def merge_sort(arr):\n",
        "    if len(arr) <= 1:\n",
        "        return arr\n",
        "    mid = len(arr) // 2\n",
        "    left = merge_sort(arr[:mid])\n",
        "    right = merge_sort(arr[mid:])\n",
        "\n",
        "    sorted_list = []\n",
        "    while left and right:\n",
        "        if left[0] < right[0]:\n",
        "            sorted_list.append(left.pop(0))\n",
        "        else:\n",
        "            sorted_list.append(right.pop(0))\n",
        "\n",
        "    return sorted_list + left + right\n",
        "merge_sort([3, 1, 4, 1, 5, 9, 2, 6, 5, 3, 5])"
      ],
      "metadata": {
        "id": "G0G52Y2ABDSY"
      },
      "execution_count": null,
      "outputs": []
    },
    {
      "cell_type": "code",
      "source": [
        "# 14. Quick Sort\n",
        "def quick_sort(arr):\n",
        "    if len(arr) <= 1:\n",
        "        return arr\n",
        "    pivot = arr[0]\n",
        "    left = [x for x in arr[1:] if x < pivot]\n",
        "    right = [x for x in arr[1:] if x >= pivot]\n",
        "    return quick_sort(left) + [pivot] + quick_sort(right)\n",
        "quick_sort([3, 1, 4, 1, 5, 9, 2, 6, 5, 3, 5])"
      ],
      "metadata": {
        "id": "vUpbIH59BDh7"
      },
      "execution_count": null,
      "outputs": []
    },
    {
      "cell_type": "code",
      "source": [
        "# 15. Frequency Counter\n",
        "def frequency_counter(lst):\n",
        "    freq = {}\n",
        "    for num in lst:\n",
        "        freq[num] = freq.get(num, 0) + 1\n",
        "    return freq\n",
        "frequency_counter([1, 2, 3, 4, 1, 2, 3, 3, 3])"
      ],
      "metadata": {
        "id": "khEL-M3GBDw1"
      },
      "execution_count": null,
      "outputs": []
    },
    {
      "cell_type": "code",
      "source": [
        "# 16. Count Distinct Elements\n",
        "def count_distinct(lst):\n",
        "    return len(set(lst))\n",
        "count_distinct([1, 2, 3, 4, 1, 2, 3, 3, 3])"
      ],
      "metadata": {
        "id": "MWqka7OIBD2K"
      },
      "execution_count": null,
      "outputs": []
    },
    {
      "cell_type": "code",
      "source": [
        "\n",
        "# 17. Union and Intersection of Sets\n",
        "def union_intersection(set1, set2):\n",
        "    return set1 | set2, set1 & set2\n",
        "union_intersection({1, 2, 3}, {3, 4, 5})"
      ],
      "metadata": {
        "id": "Mw45YPffBD5n"
      },
      "execution_count": null,
      "outputs": []
    },
    {
      "cell_type": "code",
      "source": [
        "# 18. Unique values in a dictionary\n",
        "def unique_values(d):\n",
        "    return list(set(d.values()))\n",
        "unique_values({'a': 1, 'b': 2, 'c': 1, 'd': 3})\n"
      ],
      "metadata": {
        "id": "kmIhPl5sBD9c"
      },
      "execution_count": null,
      "outputs": []
    },
    {
      "cell_type": "code",
      "source": [
        "# 19. Most common values in a dictionary\n",
        "from collections import Counter\n",
        "def most_common_values(d):\n",
        "    value_counts = Counter(d.values())\n",
        "    max_count = max(value_counts.values())\n",
        "    return [k for k, v in d.items() if value_counts[v] == max_count]\n",
        "most_common_values({'a': 1, 'b': 2, 'c': 1, 'd': 3})"
      ],
      "metadata": {
        "id": "2fsy17L-ButW"
      },
      "execution_count": null,
      "outputs": []
    },
    {
      "cell_type": "code",
      "source": [
        "\n",
        "# 20. Combine dictionaries\n",
        "def combine_dicts(d1, d2):\n",
        "    result = d2.copy()\n",
        "    result.update(d1)\n",
        "    return result\n",
        "combine_dicts({'a': 1, 'b': 2}, {'b': 3, 'c': 4})"
      ],
      "metadata": {
        "id": "GeYW39VpBu7b"
      },
      "execution_count": null,
      "outputs": []
    },
    {
      "cell_type": "code",
      "source": [
        "\n",
        "# 21. Filter list of dictionaries\n",
        "def filter_dict_list(dicts, key):\n",
        "    return [d for d in dicts if key in d]\n",
        "filter_dict_list([{'a': 1, 'b': 2}, {'b': 3, 'c': 4}], 'b')"
      ],
      "metadata": {
        "id": "f7JdA3YUBvOM"
      },
      "execution_count": null,
      "outputs": []
    },
    {
      "cell_type": "code",
      "source": [
        "# 22. Find duplicates in a list\n",
        "def find_duplicates(lst):\n",
        "    seen, duplicates = set(), set()\n",
        "    for num in lst:\n",
        "        if num in seen:\n",
        "            duplicates.add(num)\n",
        "        seen.add(num)\n",
        "    return list(duplicates)\n",
        "find_duplicates([1, 2, 3, 4, 1, 2, 3, 3, 3])"
      ],
      "metadata": {
        "id": "ddVIGIPvCQ1E"
      },
      "execution_count": null,
      "outputs": []
    }
  ]
}